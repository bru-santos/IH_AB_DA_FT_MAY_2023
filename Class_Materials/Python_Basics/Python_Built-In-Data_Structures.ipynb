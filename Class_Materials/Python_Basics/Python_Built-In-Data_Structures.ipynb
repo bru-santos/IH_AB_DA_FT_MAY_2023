{
 "cells": [
  {
   "cell_type": "markdown",
   "metadata": {
    "id": "JY7x-LVSTDP-"
   },
   "source": [
    "# Python Built-In Data Structures"
   ]
  },
  {
   "cell_type": "markdown",
   "metadata": {
    "id": "MIyFrLvJTDQI"
   },
   "source": [
    "## Lists"
   ]
  },
  {
   "cell_type": "code",
   "execution_count": 1,
   "metadata": {
    "executionInfo": {
     "elapsed": 18,
     "status": "ok",
     "timestamp": 1622473085121,
     "user": {
      "displayName": "Ignacio Soteras",
      "photoUrl": "",
      "userId": "02050793736257155229"
     },
     "user_tz": -120
    },
    "id": "2J8i6qNsTDQJ"
   },
   "outputs": [],
   "source": [
    "TA = [\"Sandra\"]"
   ]
  },
  {
   "cell_type": "code",
   "execution_count": 2,
   "metadata": {
    "colab": {
     "base_uri": "https://localhost:8080/"
    },
    "executionInfo": {
     "elapsed": 19,
     "status": "ok",
     "timestamp": 1622473085122,
     "user": {
      "displayName": "Ignacio Soteras",
      "photoUrl": "",
      "userId": "02050793736257155229"
     },
     "user_tz": -120
    },
    "id": "VsijzkPuTDQJ",
    "outputId": "df24f51f-51f4-4037-ec13-0db545f4a6e7"
   },
   "outputs": [
    {
     "data": {
      "text/plain": [
       "list"
      ]
     },
     "execution_count": 2,
     "metadata": {},
     "output_type": "execute_result"
    }
   ],
   "source": [
    "type(TA)"
   ]
  },
  {
   "cell_type": "code",
   "execution_count": 3,
   "metadata": {
    "colab": {
     "base_uri": "https://localhost:8080/"
    },
    "executionInfo": {
     "elapsed": 17,
     "status": "ok",
     "timestamp": 1622473085124,
     "user": {
      "displayName": "Ignacio Soteras",
      "photoUrl": "",
      "userId": "02050793736257155229"
     },
     "user_tz": -120
    },
    "id": "jtALFccsTDQJ",
    "outputId": "086363c6-f6fd-46a2-ec07-b306dab6e649"
   },
   "outputs": [
    {
     "data": {
      "text/plain": [
       "['Sandra']"
      ]
     },
     "execution_count": 3,
     "metadata": {},
     "output_type": "execute_result"
    }
   ],
   "source": [
    "TA"
   ]
  },
  {
   "cell_type": "markdown",
   "metadata": {
    "id": "QtkkNP8iTDQJ"
   },
   "source": [
    "#### Indexing, slicing, appending"
   ]
  },
  {
   "cell_type": "code",
   "execution_count": 4,
   "metadata": {
    "colab": {
     "base_uri": "https://localhost:8080/",
     "height": 35
    },
    "executionInfo": {
     "elapsed": 284,
     "status": "ok",
     "timestamp": 1622473088463,
     "user": {
      "displayName": "Ignacio Soteras",
      "photoUrl": "",
      "userId": "02050793736257155229"
     },
     "user_tz": -120
    },
    "id": "vUSQsqvfTDQJ",
    "outputId": "b6a37a76-2fc4-4ebc-8ae7-e8db5eb65512",
    "scrolled": true
   },
   "outputs": [
    {
     "data": {
      "text/plain": [
       "'Sandra'"
      ]
     },
     "execution_count": 4,
     "metadata": {},
     "output_type": "execute_result"
    }
   ],
   "source": [
    "TA[0]"
   ]
  },
  {
   "cell_type": "code",
   "execution_count": 5,
   "metadata": {
    "executionInfo": {
     "elapsed": 204,
     "status": "ok",
     "timestamp": 1622473174149,
     "user": {
      "displayName": "Ignacio Soteras",
      "photoUrl": "",
      "userId": "02050793736257155229"
     },
     "user_tz": -120
    },
    "id": "BYiMKablTDQK"
   },
   "outputs": [],
   "source": [
    "LT = \"Aleks\""
   ]
  },
  {
   "cell_type": "code",
   "execution_count": 6,
   "metadata": {},
   "outputs": [
    {
     "data": {
      "text/plain": [
       "str"
      ]
     },
     "execution_count": 6,
     "metadata": {},
     "output_type": "execute_result"
    }
   ],
   "source": [
    "type(LT)"
   ]
  },
  {
   "cell_type": "code",
   "execution_count": 7,
   "metadata": {
    "executionInfo": {
     "elapsed": 255,
     "status": "ok",
     "timestamp": 1622473182772,
     "user": {
      "displayName": "Ignacio Soteras",
      "photoUrl": "",
      "userId": "02050793736257155229"
     },
     "user_tz": -120
    },
    "id": "E1ylBEgbTDQK"
   },
   "outputs": [],
   "source": [
    "teachers = [LT] + TA"
   ]
  },
  {
   "cell_type": "code",
   "execution_count": 8,
   "metadata": {},
   "outputs": [
    {
     "data": {
      "text/plain": [
       "['Aleks', 'Sandra']"
      ]
     },
     "execution_count": 8,
     "metadata": {},
     "output_type": "execute_result"
    }
   ],
   "source": [
    "teachers"
   ]
  },
  {
   "cell_type": "code",
   "execution_count": 9,
   "metadata": {
    "colab": {
     "base_uri": "https://localhost:8080/"
    },
    "executionInfo": {
     "elapsed": 6,
     "status": "ok",
     "timestamp": 1622473186279,
     "user": {
      "displayName": "Ignacio Soteras",
      "photoUrl": "",
      "userId": "02050793736257155229"
     },
     "user_tz": -120
    },
    "id": "KfonezThTDQL",
    "outputId": "0eb5bf4b-6583-41e8-e2a6-707516bf2eee",
    "scrolled": true
   },
   "outputs": [
    {
     "name": "stdout",
     "output_type": "stream",
     "text": [
      "['Aleks', 'Sandra']\n"
     ]
    }
   ],
   "source": [
    "print(teachers)"
   ]
  },
  {
   "cell_type": "code",
   "execution_count": 10,
   "metadata": {
    "colab": {
     "base_uri": "https://localhost:8080/"
    },
    "executionInfo": {
     "elapsed": 191,
     "status": "ok",
     "timestamp": 1622473189102,
     "user": {
      "displayName": "Ignacio Soteras",
      "photoUrl": "",
      "userId": "02050793736257155229"
     },
     "user_tz": -120
    },
    "id": "n8dt1kc6TDQL",
    "outputId": "0926e0e7-005c-4422-c1db-6c8fe2492b1c"
   },
   "outputs": [
    {
     "data": {
      "text/plain": [
       "2"
      ]
     },
     "execution_count": 10,
     "metadata": {},
     "output_type": "execute_result"
    }
   ],
   "source": [
    "len(teachers)"
   ]
  },
  {
   "cell_type": "code",
   "execution_count": 11,
   "metadata": {},
   "outputs": [],
   "source": [
    "stdts = ['Anaswara Vijayan',\n",
    " 'Bruna Santos',\n",
    " 'Bryan Dunleavy',\n",
    " 'Feras Rafeh',\n",
    " 'Geneva Uy',\n",
    " 'Iranel González',\n",
    " 'Ivanna Pivtorak',\n",
    " 'Jan Hildebrand',\n",
    " 'Kaan Dural',\n",
    " 'Tahora Husaini',\n",
    " 'Tomas Renaudo',\n",
    " 'Valentina Delgado']"
   ]
  },
  {
   "cell_type": "markdown",
   "metadata": {},
   "source": [
    "#### Creating a random sample of students"
   ]
  },
  {
   "cell_type": "code",
   "execution_count": 13,
   "metadata": {},
   "outputs": [],
   "source": [
    "import random"
   ]
  },
  {
   "cell_type": "code",
   "execution_count": 14,
   "metadata": {},
   "outputs": [],
   "source": [
    "sample_of_students = random.sample(stdts,5)"
   ]
  },
  {
   "cell_type": "code",
   "execution_count": 18,
   "metadata": {},
   "outputs": [
    {
     "data": {
      "text/plain": [
       "'Bruna Santos'"
      ]
     },
     "execution_count": 18,
     "metadata": {},
     "output_type": "execute_result"
    }
   ],
   "source": [
    "random.choice(stdts)"
   ]
  },
  {
   "cell_type": "markdown",
   "metadata": {},
   "source": [
    "#### Appending them to \"teachers\""
   ]
  },
  {
   "cell_type": "code",
   "execution_count": 44,
   "metadata": {},
   "outputs": [
    {
     "data": {
      "text/plain": [
       "['Aleks',\n",
       " 'Sandra',\n",
       " ['Anaswara Vijayan',\n",
       "  'Kaan Dural',\n",
       "  'Valentina Delgado',\n",
       "  'Feras Rafeh',\n",
       "  'Tomas Renaudo'],\n",
       " 'Anaswara Vijayan',\n",
       " 'Kaan Dural',\n",
       " 'Valentina Delgado',\n",
       " 'Feras Rafeh',\n",
       " 'Tomas Renaudo',\n",
       " 'Valentina Delgado',\n",
       " 'Geneva Uy',\n",
       " 'Bruna Santos',\n",
       " 'Tomas Renaudo',\n",
       " 'Anaswara Vijayan',\n",
       " ['Valentina Delgado',\n",
       "  'Geneva Uy',\n",
       "  'Bruna Santos',\n",
       "  'Tomas Renaudo',\n",
       "  'Anaswara Vijayan']]"
      ]
     },
     "execution_count": 44,
     "metadata": {},
     "output_type": "execute_result"
    }
   ],
   "source": [
    "teachers.append(sample_of_students)\n",
    "teachers"
   ]
  },
  {
   "cell_type": "code",
   "execution_count": 45,
   "metadata": {},
   "outputs": [
    {
     "data": {
      "text/plain": [
       "list"
      ]
     },
     "execution_count": 45,
     "metadata": {},
     "output_type": "execute_result"
    }
   ],
   "source": [
    "type(teachers)"
   ]
  },
  {
   "cell_type": "code",
   "execution_count": 16,
   "metadata": {},
   "outputs": [
    {
     "data": {
      "text/plain": [
       "['Aleks',\n",
       " 'Sandra',\n",
       " 'Feras Rafeh',\n",
       " 'Tomas Renaudo',\n",
       " 'Jan Hildebrand',\n",
       " 'Tahora Husaini',\n",
       " 'Anaswara Vijayan']"
      ]
     },
     "execution_count": 16,
     "metadata": {},
     "output_type": "execute_result"
    }
   ],
   "source": [
    "teachers.extend(sample_of_students)\n",
    "teachers"
   ]
  },
  {
   "cell_type": "markdown",
   "metadata": {
    "id": "1A_2ABUuTDQL"
   },
   "source": [
    "#### Iterating through lists"
   ]
  },
  {
   "cell_type": "code",
   "execution_count": 17,
   "metadata": {
    "colab": {
     "base_uri": "https://localhost:8080/"
    },
    "executionInfo": {
     "elapsed": 213,
     "status": "ok",
     "timestamp": 1622473196196,
     "user": {
      "displayName": "Ignacio Soteras",
      "photoUrl": "",
      "userId": "02050793736257155229"
     },
     "user_tz": -120
    },
    "id": "Wst_o9gNTDQL",
    "outputId": "0e120fe9-63a8-4c08-9f1f-b6adc00ff894",
    "scrolled": true
   },
   "outputs": [
    {
     "name": "stdout",
     "output_type": "stream",
     "text": [
      "Aleks is a teacher!\n",
      "Sandra is a teacher!\n",
      "Feras Rafeh is a teacher!\n",
      "Tomas Renaudo is a teacher!\n",
      "Jan Hildebrand is a teacher!\n",
      "Tahora Husaini is a teacher!\n",
      "Anaswara Vijayan is a teacher!\n"
     ]
    }
   ],
   "source": [
    "for teacher in teachers:\n",
    "    print(teacher+ \" is a teacher!\")"
   ]
  },
  {
   "cell_type": "code",
   "execution_count": 18,
   "metadata": {},
   "outputs": [
    {
     "data": {
      "text/plain": [
       "['Aleks',\n",
       " 'Sandra',\n",
       " 'Feras Rafeh',\n",
       " 'Tomas Renaudo',\n",
       " 'Jan Hildebrand',\n",
       " 'Tahora Husaini',\n",
       " 'Anaswara Vijayan']"
      ]
     },
     "execution_count": 18,
     "metadata": {},
     "output_type": "execute_result"
    }
   ],
   "source": [
    "teachers"
   ]
  },
  {
   "cell_type": "code",
   "execution_count": 19,
   "metadata": {},
   "outputs": [],
   "source": [
    "students = ['Anaswara Vijayan',\n",
    " 'Azad Kader',\n",
    " 'Babitha Prasun',\n",
    " 'Bruna Santos',\n",
    " 'Bryan Dunleavy',\n",
    " 'Elisa Cerdá Doñate',\n",
    " 'Feras Rafeh',\n",
    " 'Geneva Uy',\n",
    " 'Iranel González',\n",
    " 'Ivanna Pivtorak',\n",
    " 'Jan Hildebrand',\n",
    " 'Kaan Dural',\n",
    " 'Simran Agarwal',\n",
    " 'Tahora Husaini',\n",
    " 'Tomas Renaudo',\n",
    " 'Valentina Delgado']\n"
   ]
  },
  {
   "cell_type": "markdown",
   "metadata": {
    "id": "31rHy2z_TDQM"
   },
   "source": [
    "#### Print students with names ending with o"
   ]
  },
  {
   "cell_type": "code",
   "execution_count": 20,
   "metadata": {
    "colab": {
     "base_uri": "https://localhost:8080/"
    },
    "executionInfo": {
     "elapsed": 175,
     "status": "ok",
     "timestamp": 1622473280584,
     "user": {
      "displayName": "Ignacio Soteras",
      "photoUrl": "",
      "userId": "02050793736257155229"
     },
     "user_tz": -120
    },
    "id": "1N1PpjKuTDQM",
    "outputId": "a155befe-d557-42c7-fbbe-e964aa342b15"
   },
   "outputs": [
    {
     "name": "stdout",
     "output_type": "stream",
     "text": [
      "Tomas Renaudo\n",
      "Valentina Delgado\n"
     ]
    }
   ],
   "source": [
    "for student in students:\n",
    "    if ( student[-1]=='o'):\n",
    "        print(student)"
   ]
  },
  {
   "cell_type": "markdown",
   "metadata": {
    "id": "CxU-y1wDTDQM"
   },
   "source": [
    "#### Create two lists: \"student_names\" and \"student_surnames\""
   ]
  },
  {
   "cell_type": "code",
   "execution_count": 21,
   "metadata": {
    "executionInfo": {
     "elapsed": 174,
     "status": "ok",
     "timestamp": 1622473300972,
     "user": {
      "displayName": "Ignacio Soteras",
      "photoUrl": "",
      "userId": "02050793736257155229"
     },
     "user_tz": -120
    },
    "id": "DPrp4qT7TDQM"
   },
   "outputs": [],
   "source": [
    "student_names = []\n",
    "student_surnames = []"
   ]
  },
  {
   "cell_type": "code",
   "execution_count": 22,
   "metadata": {
    "executionInfo": {
     "elapsed": 223,
     "status": "ok",
     "timestamp": 1622473346219,
     "user": {
      "displayName": "Ignacio Soteras",
      "photoUrl": "",
      "userId": "02050793736257155229"
     },
     "user_tz": -120
    },
    "id": "8p2RWHmETDQN",
    "scrolled": true
   },
   "outputs": [],
   "source": [
    "for student in students:\n",
    "    student_split = student.split()\n",
    "    ## populating the first names \n",
    "    student_names.append(student_split[0])\n",
    "    ## populating the seond list which contains the last names \n",
    "    student_surnames.append(student_split[-1])"
   ]
  },
  {
   "cell_type": "code",
   "execution_count": 23,
   "metadata": {},
   "outputs": [
    {
     "data": {
      "text/plain": [
       "['Anaswara',\n",
       " 'Azad',\n",
       " 'Babitha',\n",
       " 'Bruna',\n",
       " 'Bryan',\n",
       " 'Elisa',\n",
       " 'Feras',\n",
       " 'Geneva',\n",
       " 'Iranel',\n",
       " 'Ivanna',\n",
       " 'Jan',\n",
       " 'Kaan',\n",
       " 'Simran',\n",
       " 'Tahora',\n",
       " 'Tomas',\n",
       " 'Valentina']"
      ]
     },
     "execution_count": 23,
     "metadata": {},
     "output_type": "execute_result"
    }
   ],
   "source": [
    "student_names"
   ]
  },
  {
   "cell_type": "code",
   "execution_count": 24,
   "metadata": {},
   "outputs": [
    {
     "data": {
      "text/plain": [
       "['Vijayan',\n",
       " 'Kader',\n",
       " 'Prasun',\n",
       " 'Santos',\n",
       " 'Dunleavy',\n",
       " 'Doñate',\n",
       " 'Rafeh',\n",
       " 'Uy',\n",
       " 'González',\n",
       " 'Pivtorak',\n",
       " 'Hildebrand',\n",
       " 'Dural',\n",
       " 'Agarwal',\n",
       " 'Husaini',\n",
       " 'Renaudo',\n",
       " 'Delgado']"
      ]
     },
     "execution_count": 24,
     "metadata": {},
     "output_type": "execute_result"
    }
   ],
   "source": [
    "student_surnames"
   ]
  },
  {
   "cell_type": "markdown",
   "metadata": {
    "id": "JXR4QJ23TDQN"
   },
   "source": [
    "#### Print the surname for a random name"
   ]
  },
  {
   "cell_type": "code",
   "execution_count": 25,
   "metadata": {},
   "outputs": [],
   "source": [
    "#choose a random name\n",
    "\n",
    "random_name = random.choice(student_names)"
   ]
  },
  {
   "cell_type": "code",
   "execution_count": 26,
   "metadata": {},
   "outputs": [
    {
     "data": {
      "text/plain": [
       "'Iranel'"
      ]
     },
     "execution_count": 26,
     "metadata": {},
     "output_type": "execute_result"
    }
   ],
   "source": [
    "random_name"
   ]
  },
  {
   "cell_type": "code",
   "execution_count": 27,
   "metadata": {},
   "outputs": [],
   "source": [
    "index_student = student_names.index(random_name)"
   ]
  },
  {
   "cell_type": "code",
   "execution_count": 28,
   "metadata": {
    "scrolled": true
   },
   "outputs": [
    {
     "data": {
      "text/plain": [
       "8"
      ]
     },
     "execution_count": 28,
     "metadata": {},
     "output_type": "execute_result"
    }
   ],
   "source": [
    "index_student"
   ]
  },
  {
   "cell_type": "code",
   "execution_count": 62,
   "metadata": {
    "colab": {
     "base_uri": "https://localhost:8080/"
    },
    "executionInfo": {
     "elapsed": 190,
     "status": "ok",
     "timestamp": 1622473388002,
     "user": {
      "displayName": "Ignacio Soteras",
      "photoUrl": "",
      "userId": "02050793736257155229"
     },
     "user_tz": -120
    },
    "id": "gE7FojgwTDQN",
    "outputId": "bf44adfd-08fd-4121-e227-aebe98d87432",
    "scrolled": false
   },
   "outputs": [
    {
     "data": {
      "text/plain": [
       "['Vijayan',\n",
       " 'Kader',\n",
       " 'Prasun',\n",
       " 'Santos',\n",
       " 'Dunleavy',\n",
       " 'Doñate',\n",
       " 'Rafeh',\n",
       " 'Uy',\n",
       " 'González',\n",
       " 'Pivtorak',\n",
       " 'Hildebrand',\n",
       " 'Dural',\n",
       " 'Agarwal',\n",
       " 'Husaini',\n",
       " 'Renaudo',\n",
       " 'Delgado']"
      ]
     },
     "execution_count": 62,
     "metadata": {},
     "output_type": "execute_result"
    }
   ],
   "source": [
    "student_surnames[0:]"
   ]
  },
  {
   "cell_type": "code",
   "execution_count": 64,
   "metadata": {},
   "outputs": [
    {
     "data": {
      "text/plain": [
       "['Vijayan', 'Kader']"
      ]
     },
     "execution_count": 64,
     "metadata": {},
     "output_type": "execute_result"
    }
   ],
   "source": [
    "student_surnames[0:2]"
   ]
  },
  {
   "cell_type": "code",
   "execution_count": 66,
   "metadata": {},
   "outputs": [
    {
     "data": {
      "text/plain": [
       "'Kader'"
      ]
     },
     "execution_count": 66,
     "metadata": {},
     "output_type": "execute_result"
    }
   ],
   "source": [
    "student_surnames[1]"
   ]
  },
  {
   "cell_type": "markdown",
   "metadata": {
    "id": "cIXAV-1PTDQP"
   },
   "source": [
    "## Dictionaries"
   ]
  },
  {
   "cell_type": "code",
   "execution_count": 30,
   "metadata": {
    "executionInfo": {
     "elapsed": 584,
     "status": "ok",
     "timestamp": 1622473465407,
     "user": {
      "displayName": "Ignacio Soteras",
      "photoUrl": "",
      "userId": "02050793736257155229"
     },
     "user_tz": -120
    },
    "id": "64vPaY7sTDQP"
   },
   "outputs": [],
   "source": [
    "ages = {\n",
    "        \"Aleks\":28,\n",
    "        \"Sandra\":30\n",
    "       }"
   ]
  },
  {
   "cell_type": "code",
   "execution_count": 31,
   "metadata": {
    "colab": {
     "base_uri": "https://localhost:8080/"
    },
    "executionInfo": {
     "elapsed": 183,
     "status": "ok",
     "timestamp": 1622473466950,
     "user": {
      "displayName": "Ignacio Soteras",
      "photoUrl": "",
      "userId": "02050793736257155229"
     },
     "user_tz": -120
    },
    "id": "yEvwOw78TDQQ",
    "outputId": "221446d9-707d-4bb0-9cdd-83f8d6a5e7c7"
   },
   "outputs": [
    {
     "data": {
      "text/plain": [
       "{'Aleks': 28, 'Sandra': 30}"
      ]
     },
     "execution_count": 31,
     "metadata": {},
     "output_type": "execute_result"
    }
   ],
   "source": [
    "ages"
   ]
  },
  {
   "cell_type": "markdown",
   "metadata": {
    "id": "dWATnEg2TDQQ"
   },
   "source": [
    "#### Accessing keys & values"
   ]
  },
  {
   "cell_type": "code",
   "execution_count": 32,
   "metadata": {},
   "outputs": [
    {
     "data": {
      "text/plain": [
       "['Aleks', 'Sandra']"
      ]
     },
     "execution_count": 32,
     "metadata": {},
     "output_type": "execute_result"
    }
   ],
   "source": [
    "list(ages.keys())"
   ]
  },
  {
   "cell_type": "code",
   "execution_count": 33,
   "metadata": {
    "colab": {
     "base_uri": "https://localhost:8080/"
    },
    "executionInfo": {
     "elapsed": 185,
     "status": "ok",
     "timestamp": 1622473473916,
     "user": {
      "displayName": "Ignacio Soteras",
      "photoUrl": "",
      "userId": "02050793736257155229"
     },
     "user_tz": -120
    },
    "id": "bbRuYJj4TDQQ",
    "outputId": "c8754e66-e92d-46f7-8173-c70a2b5c9563"
   },
   "outputs": [
    {
     "data": {
      "text/plain": [
       "[28, 30]"
      ]
     },
     "execution_count": 33,
     "metadata": {},
     "output_type": "execute_result"
    }
   ],
   "source": [
    "list(ages.values())"
   ]
  },
  {
   "cell_type": "code",
   "execution_count": 34,
   "metadata": {
    "colab": {
     "base_uri": "https://localhost:8080/"
    },
    "executionInfo": {
     "elapsed": 185,
     "status": "ok",
     "timestamp": 1622473501910,
     "user": {
      "displayName": "Ignacio Soteras",
      "photoUrl": "",
      "userId": "02050793736257155229"
     },
     "user_tz": -120
    },
    "id": "HM2bZ45FTDQQ",
    "outputId": "cc4bcd1d-25a8-4d0a-dfa0-7c60d74a9430"
   },
   "outputs": [
    {
     "data": {
      "text/plain": [
       "28"
      ]
     },
     "execution_count": 34,
     "metadata": {},
     "output_type": "execute_result"
    }
   ],
   "source": [
    "ages[\"Aleks\"]"
   ]
  },
  {
   "cell_type": "code",
   "execution_count": 35,
   "metadata": {
    "colab": {
     "base_uri": "https://localhost:8080/"
    },
    "executionInfo": {
     "elapsed": 7,
     "status": "ok",
     "timestamp": 1622473505403,
     "user": {
      "displayName": "Ignacio Soteras",
      "photoUrl": "",
      "userId": "02050793736257155229"
     },
     "user_tz": -120
    },
    "id": "t4AeOE1LTDQQ",
    "outputId": "b654e029-57b4-45d6-ebae-75f165a9d4d8"
   },
   "outputs": [
    {
     "data": {
      "text/plain": [
       "2"
      ]
     },
     "execution_count": 35,
     "metadata": {},
     "output_type": "execute_result"
    }
   ],
   "source": [
    "len(ages)"
   ]
  },
  {
   "cell_type": "markdown",
   "metadata": {
    "id": "S71yWy_TTDQR"
   },
   "source": [
    "#### Iterate through dictionary"
   ]
  },
  {
   "cell_type": "code",
   "execution_count": 36,
   "metadata": {},
   "outputs": [
    {
     "name": "stdout",
     "output_type": "stream",
     "text": [
      "Aleks\n",
      "Sandra\n"
     ]
    }
   ],
   "source": [
    "for i in ages:\n",
    "    print(i)"
   ]
  },
  {
   "cell_type": "code",
   "execution_count": 37,
   "metadata": {},
   "outputs": [
    {
     "data": {
      "text/plain": [
       "{'Aleks': 28, 'Sandra': 30}"
      ]
     },
     "execution_count": 37,
     "metadata": {},
     "output_type": "execute_result"
    }
   ],
   "source": [
    "ages"
   ]
  },
  {
   "cell_type": "code",
   "execution_count": 38,
   "metadata": {
    "colab": {
     "base_uri": "https://localhost:8080/"
    },
    "executionInfo": {
     "elapsed": 211,
     "status": "ok",
     "timestamp": 1622473509042,
     "user": {
      "displayName": "Ignacio Soteras",
      "photoUrl": "",
      "userId": "02050793736257155229"
     },
     "user_tz": -120
    },
    "id": "sHWZ_EgyTDQR",
    "outputId": "a4fcf246-c7da-4b65-f86c-1d75b8df11e8",
    "scrolled": true
   },
   "outputs": [
    {
     "name": "stdout",
     "output_type": "stream",
     "text": [
      "Aleks is 28 years old.\n",
      "Sandra is 30 years old.\n"
     ]
    }
   ],
   "source": [
    "for teacher in ages.keys():\n",
    "    print(teacher + \" is \" + str(ages[teacher]) + \" years old.\")"
   ]
  },
  {
   "cell_type": "code",
   "execution_count": 39,
   "metadata": {},
   "outputs": [
    {
     "name": "stdout",
     "output_type": "stream",
     "text": [
      "53\n"
     ]
    }
   ],
   "source": [
    "a = 5\n",
    "b = 3\n",
    "c = str(a) + str(b)\n",
    "print(c)"
   ]
  },
  {
   "cell_type": "markdown",
   "metadata": {},
   "source": [
    "<b> iterating using items() "
   ]
  },
  {
   "cell_type": "code",
   "execution_count": null,
   "metadata": {},
   "outputs": [],
   "source": [
    "ages.items()"
   ]
  },
  {
   "cell_type": "code",
   "execution_count": 40,
   "metadata": {},
   "outputs": [
    {
     "name": "stdout",
     "output_type": "stream",
     "text": [
      "Aleks is 28 years old \n",
      "Sandra is 30 years old \n"
     ]
    }
   ],
   "source": [
    "for i,j in ages.items():\n",
    "    print (i + \" is \"+ str(j) +\" years old \")"
   ]
  },
  {
   "cell_type": "markdown",
   "metadata": {
    "id": "_1gzqo1QTDQR"
   },
   "source": [
    "#### Nested dictionaries\n",
    "\n",
    "Create a dictionary of teachers. For each teacher, it stores their age, role and the city where they live."
   ]
  },
  {
   "cell_type": "code",
   "execution_count": 42,
   "metadata": {
    "executionInfo": {
     "elapsed": 303,
     "status": "ok",
     "timestamp": 1622473514773,
     "user": {
      "displayName": "Ignacio Soteras",
      "photoUrl": "",
      "userId": "02050793736257155229"
     },
     "user_tz": -120
    },
    "id": "yRQg_TmATDQR"
   },
   "outputs": [],
   "source": [
    "teachers_dict = {\n",
    "    \n",
    "    \"Aleks\":{\n",
    "        \"age\":18,\n",
    "        \"role\":\"LT\",\n",
    "        \"city_residence\":\"Berlin\"\n",
    "    },\n",
    "    \"Sandra\":{\n",
    "        \"age\": 19,\n",
    "        \"role\":\"TA\",\n",
    "        \"city_residence\":\"Mexico City\"\n",
    "    }\n",
    "}"
   ]
  },
  {
   "cell_type": "markdown",
   "metadata": {},
   "source": [
    "#### Challenge: print Sandra's role"
   ]
  },
  {
   "cell_type": "code",
   "execution_count": 47,
   "metadata": {},
   "outputs": [
    {
     "data": {
      "text/plain": [
       "('TA', 'Mexico City')"
      ]
     },
     "execution_count": 47,
     "metadata": {},
     "output_type": "execute_result"
    }
   ],
   "source": [
    "#here\n",
    "\n",
    "teachers_dict[\"Sandra\"][\"role\"],teachers_dict[\"Sandra\"][\"city_residence\"]"
   ]
  },
  {
   "cell_type": "markdown",
   "metadata": {
    "id": "dk6riaYKTDQS"
   },
   "source": [
    "#### Print only t name of teachers who live in Berlin"
   ]
  },
  {
   "cell_type": "code",
   "execution_count": 48,
   "metadata": {
    "colab": {
     "base_uri": "https://localhost:8080/"
    },
    "executionInfo": {
     "elapsed": 208,
     "status": "ok",
     "timestamp": 1622473548181,
     "user": {
      "displayName": "Ignacio Soteras",
      "photoUrl": "",
      "userId": "02050793736257155229"
     },
     "user_tz": -120
    },
    "id": "O3eKDMrwTDQS",
    "outputId": "57836f73-2e02-47b8-f445-014c536a3676"
   },
   "outputs": [
    {
     "name": "stdout",
     "output_type": "stream",
     "text": [
      "Aleks lives in Berlin\n"
     ]
    }
   ],
   "source": [
    "for teacher in teachers_dict.keys():\n",
    "    teacher_Info=teachers_dict[teacher]\n",
    "    if teacher_Info[\"city_residence\"] == \"Berlin\":\n",
    "        print(teacher + \" lives in Berlin\")"
   ]
  },
  {
   "cell_type": "markdown",
   "metadata": {
    "id": "6doqUoN5TDQS"
   },
   "source": [
    "## Tuples"
   ]
  },
  {
   "cell_type": "code",
   "execution_count": 49,
   "metadata": {},
   "outputs": [
    {
     "data": {
      "text/plain": [
       "['Aleks',\n",
       " 'Sandra',\n",
       " 'Feras Rafeh',\n",
       " 'Tomas Renaudo',\n",
       " 'Jan Hildebrand',\n",
       " 'Tahora Husaini',\n",
       " 'Anaswara Vijayan']"
      ]
     },
     "execution_count": 49,
     "metadata": {},
     "output_type": "execute_result"
    }
   ],
   "source": [
    "teachers"
   ]
  },
  {
   "cell_type": "code",
   "execution_count": 50,
   "metadata": {
    "executionInfo": {
     "elapsed": 187,
     "status": "ok",
     "timestamp": 1622473550845,
     "user": {
      "displayName": "Ignacio Soteras",
      "photoUrl": "",
      "userId": "02050793736257155229"
     },
     "user_tz": -120
    },
    "id": "gK_39kH5TDQS"
   },
   "outputs": [],
   "source": [
    "teachers_tuple = tuple(teachers)"
   ]
  },
  {
   "cell_type": "code",
   "execution_count": 51,
   "metadata": {
    "colab": {
     "base_uri": "https://localhost:8080/"
    },
    "executionInfo": {
     "elapsed": 178,
     "status": "ok",
     "timestamp": 1622473553778,
     "user": {
      "displayName": "Ignacio Soteras",
      "photoUrl": "",
      "userId": "02050793736257155229"
     },
     "user_tz": -120
    },
    "id": "QvOFIe_ZTDQS",
    "outputId": "95053103-1525-4d2b-f3a5-39e0d185555c"
   },
   "outputs": [
    {
     "data": {
      "text/plain": [
       "('Aleks',\n",
       " 'Sandra',\n",
       " 'Feras Rafeh',\n",
       " 'Tomas Renaudo',\n",
       " 'Jan Hildebrand',\n",
       " 'Tahora Husaini',\n",
       " 'Anaswara Vijayan')"
      ]
     },
     "execution_count": 51,
     "metadata": {},
     "output_type": "execute_result"
    }
   ],
   "source": [
    "teachers_tuple"
   ]
  },
  {
   "cell_type": "code",
   "execution_count": 52,
   "metadata": {
    "colab": {
     "base_uri": "https://localhost:8080/",
     "height": 165
    },
    "executionInfo": {
     "elapsed": 195,
     "status": "error",
     "timestamp": 1622473556716,
     "user": {
      "displayName": "Ignacio Soteras",
      "photoUrl": "",
      "userId": "02050793736257155229"
     },
     "user_tz": -120
    },
    "id": "cnE-tjTDTDQS",
    "outputId": "f90f84e3-06ad-4642-a1cb-86a9dc6a10b2"
   },
   "outputs": [
    {
     "ename": "TypeError",
     "evalue": "'tuple' object does not support item assignment",
     "output_type": "error",
     "traceback": [
      "\u001b[0;31m---------------------------------------------------------------------------\u001b[0m",
      "\u001b[0;31mTypeError\u001b[0m                                 Traceback (most recent call last)",
      "Cell \u001b[0;32mIn[52], line 1\u001b[0m\n\u001b[0;32m----> 1\u001b[0m teachers_tuple[\u001b[38;5;241m1\u001b[39m] \u001b[38;5;241m=\u001b[39m \u001b[38;5;124m\"\u001b[39m\u001b[38;5;124mJohn\u001b[39m\u001b[38;5;124m\"\u001b[39m\n",
      "\u001b[0;31mTypeError\u001b[0m: 'tuple' object does not support item assignment"
     ]
    }
   ],
   "source": [
    "teachers_tuple[1] = \"John\""
   ]
  },
  {
   "cell_type": "code",
   "execution_count": 53,
   "metadata": {},
   "outputs": [
    {
     "data": {
      "text/plain": [
       "['Aleks',\n",
       " 'Sandra',\n",
       " 'Feras Rafeh',\n",
       " 'Tomas Renaudo',\n",
       " 'Jan Hildebrand',\n",
       " 'Tahora Husaini',\n",
       " 'Anaswara Vijayan']"
      ]
     },
     "execution_count": 53,
     "metadata": {},
     "output_type": "execute_result"
    }
   ],
   "source": [
    "teachers"
   ]
  },
  {
   "cell_type": "markdown",
   "metadata": {},
   "source": [
    "## Set"
   ]
  },
  {
   "cell_type": "markdown",
   "metadata": {
    "id": "hBrTNpyUTDQU"
   },
   "source": [
    "#### Take a random sample (with replacement) of 100 numbers from 1 to 100:"
   ]
  },
  {
   "cell_type": "code",
   "execution_count": 54,
   "metadata": {},
   "outputs": [
    {
     "name": "stdout",
     "output_type": "stream",
     "text": [
      "0\n",
      "1\n",
      "2\n",
      "3\n",
      "4\n"
     ]
    }
   ],
   "source": [
    "for i in range(5):\n",
    "    print(i)"
   ]
  },
  {
   "cell_type": "code",
   "execution_count": 55,
   "metadata": {
    "executionInfo": {
     "elapsed": 224,
     "status": "ok",
     "timestamp": 1622473582781,
     "user": {
      "displayName": "Ignacio Soteras",
      "photoUrl": "",
      "userId": "02050793736257155229"
     },
     "user_tz": -120
    },
    "id": "SDb3qAkmTDQU"
   },
   "outputs": [],
   "source": [
    "random_numbers = []\n",
    "\n",
    "for i in range(100):\n",
    "    random_numbers.append(random.randint(1, 100))"
   ]
  },
  {
   "cell_type": "code",
   "execution_count": 56,
   "metadata": {
    "colab": {
     "base_uri": "https://localhost:8080/"
    },
    "executionInfo": {
     "elapsed": 8,
     "status": "ok",
     "timestamp": 1622473584392,
     "user": {
      "displayName": "Ignacio Soteras",
      "photoUrl": "",
      "userId": "02050793736257155229"
     },
     "user_tz": -120
    },
    "id": "9Tyj_KOOTDQU",
    "outputId": "e1ed6a93-c1fa-45e4-95d6-bf4669e6c76b",
    "scrolled": true
   },
   "outputs": [
    {
     "data": {
      "text/plain": [
       "100"
      ]
     },
     "execution_count": 56,
     "metadata": {},
     "output_type": "execute_result"
    }
   ],
   "source": [
    "len(random_numbers)"
   ]
  },
  {
   "cell_type": "code",
   "execution_count": 57,
   "metadata": {},
   "outputs": [
    {
     "data": {
      "text/plain": [
       "[3,\n",
       " 9,\n",
       " 63,\n",
       " 88,\n",
       " 52,\n",
       " 73,\n",
       " 23,\n",
       " 6,\n",
       " 34,\n",
       " 99,\n",
       " 5,\n",
       " 74,\n",
       " 64,\n",
       " 58,\n",
       " 15,\n",
       " 14,\n",
       " 56,\n",
       " 35,\n",
       " 96,\n",
       " 66,\n",
       " 100,\n",
       " 78,\n",
       " 19,\n",
       " 52,\n",
       " 22,\n",
       " 44,\n",
       " 38,\n",
       " 25,\n",
       " 88,\n",
       " 50,\n",
       " 90,\n",
       " 37,\n",
       " 40,\n",
       " 74,\n",
       " 41,\n",
       " 25,\n",
       " 44,\n",
       " 6,\n",
       " 3,\n",
       " 36,\n",
       " 8,\n",
       " 19,\n",
       " 64,\n",
       " 40,\n",
       " 36,\n",
       " 34,\n",
       " 66,\n",
       " 56,\n",
       " 24,\n",
       " 66,\n",
       " 61,\n",
       " 12,\n",
       " 12,\n",
       " 64,\n",
       " 66,\n",
       " 16,\n",
       " 42,\n",
       " 25,\n",
       " 84,\n",
       " 71,\n",
       " 75,\n",
       " 60,\n",
       " 69,\n",
       " 29,\n",
       " 94,\n",
       " 51,\n",
       " 73,\n",
       " 27,\n",
       " 55,\n",
       " 37,\n",
       " 27,\n",
       " 89,\n",
       " 82,\n",
       " 58,\n",
       " 40,\n",
       " 18,\n",
       " 62,\n",
       " 75,\n",
       " 46,\n",
       " 80,\n",
       " 23,\n",
       " 18,\n",
       " 49,\n",
       " 65,\n",
       " 61,\n",
       " 23,\n",
       " 60,\n",
       " 45,\n",
       " 78,\n",
       " 52,\n",
       " 52,\n",
       " 43,\n",
       " 72,\n",
       " 96,\n",
       " 95,\n",
       " 32,\n",
       " 83,\n",
       " 93,\n",
       " 45,\n",
       " 34]"
      ]
     },
     "execution_count": 57,
     "metadata": {},
     "output_type": "execute_result"
    }
   ],
   "source": [
    "random_numbers"
   ]
  },
  {
   "cell_type": "code",
   "execution_count": 58,
   "metadata": {},
   "outputs": [
    {
     "data": {
      "text/plain": [
       "64"
      ]
     },
     "execution_count": 58,
     "metadata": {},
     "output_type": "execute_result"
    }
   ],
   "source": [
    "len(set(random_numbers))"
   ]
  },
  {
   "cell_type": "markdown",
   "metadata": {},
   "source": [
    "### set union"
   ]
  },
  {
   "cell_type": "code",
   "execution_count": 59,
   "metadata": {},
   "outputs": [
    {
     "data": {
      "text/plain": [
       "{'apple', 'banana', 'cherry', 'google', 'microsoft'}"
      ]
     },
     "execution_count": 59,
     "metadata": {},
     "output_type": "execute_result"
    }
   ],
   "source": [
    "x = {\"apple\", \"banana\", \"cherry\"}\n",
    "y = {\"google\", \"microsoft\", \"apple\"}\n",
    "\n",
    "z = x.union(y)\n",
    "z"
   ]
  },
  {
   "cell_type": "code",
   "execution_count": null,
   "metadata": {},
   "outputs": [],
   "source": []
  }
 ],
 "metadata": {
  "colab": {
   "name": "Code Along Object Types.ipynb",
   "provenance": []
  },
  "kernelspec": {
   "display_name": "Python 3 (ipykernel)",
   "language": "python",
   "name": "python3"
  },
  "language_info": {
   "codemirror_mode": {
    "name": "ipython",
    "version": 3
   },
   "file_extension": ".py",
   "mimetype": "text/x-python",
   "name": "python",
   "nbconvert_exporter": "python",
   "pygments_lexer": "ipython3",
   "version": "3.10.9"
  },
  "toc": {
   "base_numbering": 1,
   "nav_menu": {},
   "number_sections": false,
   "sideBar": true,
   "skip_h1_title": false,
   "title_cell": "Table of Contents",
   "title_sidebar": "Contents",
   "toc_cell": false,
   "toc_position": {},
   "toc_section_display": true,
   "toc_window_display": false
  }
 },
 "nbformat": 4,
 "nbformat_minor": 1
}
